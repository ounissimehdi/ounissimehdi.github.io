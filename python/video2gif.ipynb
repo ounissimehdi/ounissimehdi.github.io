{
 "cells": [
  {
   "cell_type": "code",
   "execution_count": 5,
   "metadata": {},
   "outputs": [
    {
     "name": "stderr",
     "output_type": "stream",
     "text": [
      "t:   2%|▏         | 2/90 [00:00<00:05, 16.42it/s, now=None]"
     ]
    },
    {
     "name": "stdout",
     "output_type": "stream",
     "text": [
      "MoviePy - Building file output.gif with imageio.\n"
     ]
    },
    {
     "name": "stderr",
     "output_type": "stream",
     "text": [
      "                                                            \r"
     ]
    }
   ],
   "source": [
    "from moviepy.editor import VideoFileClip\n",
    "from moviepy.video.fx.all import speedx\n",
    "\n",
    "# Load video\n",
    "clip = VideoFileClip(\"../videos/malmo_base.mp4\")\n",
    "\n",
    "# Make clip 10x faster\n",
    "clip = speedx(clip, 20) # increase the number for more speed\n",
    "\n",
    "# Take the first second only\n",
    "clip = clip.subclip(0, 3)\n",
    "\n",
    "# Write the result to a file\n",
    "clip.write_gif(\"../videos/malmo_base.gif\")\n"
   ]
  }
 ],
 "metadata": {
  "kernelspec": {
   "display_name": "base",
   "language": "python",
   "name": "python3"
  },
  "language_info": {
   "codemirror_mode": {
    "name": "ipython",
    "version": 3
   },
   "file_extension": ".py",
   "mimetype": "text/x-python",
   "name": "python",
   "nbconvert_exporter": "python",
   "pygments_lexer": "ipython3",
   "version": "3.8.8"
  },
  "orig_nbformat": 4
 },
 "nbformat": 4,
 "nbformat_minor": 2
}
