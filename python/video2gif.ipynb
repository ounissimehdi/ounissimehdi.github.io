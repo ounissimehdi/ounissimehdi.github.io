{
 "cells": [
  {
   "cell_type": "code",
   "execution_count": null,
   "metadata": {},
   "outputs": [],
   "source": [
    "from moviepy.editor import VideoFileClip, concatenate\n",
    "\n",
    "# Load video\n",
    "clip = VideoFileClip(\"../videos/malmo_base.mp4\")\n",
    "\n",
    "# Make clip 10x faster\n",
    "clip = clip.fx(vfx.speedx, 10) # increase the number for more speed\n",
    "\n",
    "# Take the first second only\n",
    "clip = clip.subclip(0, 1)\n",
    "\n",
    "# Write the result to a file\n",
    "clip.write_gif(\"output.gif\")"
   ]
  },
  {
   "cell_type": "code",
   "execution_count": null,
   "metadata": {},
   "outputs": [],
   "source": []
  }
 ],
 "metadata": {
  "language_info": {
   "name": "python"
  },
  "orig_nbformat": 4
 },
 "nbformat": 4,
 "nbformat_minor": 2
}
