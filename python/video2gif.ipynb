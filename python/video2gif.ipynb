{
 "cells": [
  {
   "cell_type": "code",
   "execution_count": 5,
   "metadata": {},
   "outputs": [
    {
     "name": "stderr",
     "output_type": "stream",
     "text": [
      "t:   2%|▏         | 2/90 [00:00<00:05, 16.42it/s, now=None]"
     ]
    },
    {
     "name": "stdout",
     "output_type": "stream",
     "text": [
      "MoviePy - Building file output.gif with imageio.\n"
     ]
    },
    {
     "name": "stderr",
     "output_type": "stream",
     "text": [
      "                                                            \r"
     ]
    }
   ],
   "source": [
    "from moviepy.editor import VideoFileClip\n",
    "from moviepy.video.fx.all import speedx\n",
    "\n",
    "# Load video\n",
    "clip = VideoFileClip(\"../videos/malmo_base.mp4\")\n",
    "\n",
    "# Make clip 10x faster\n",
    "clip = speedx(clip, 20) # increase the number for more speed\n",
    "\n",
    "# Take the first second only\n",
    "clip = clip.subclip(0, 3)\n",
    "\n",
    "# Write the result to a file\n",
    "clip.write_gif(\"output.gif\")\n"
   ]
  },
  {
   "cell_type": "code",
   "execution_count": 1,
   "metadata": {},
   "outputs": [
    {
     "name": "stdout",
     "output_type": "stream",
     "text": [
      "Collecting moviepy\n",
      "  Downloading moviepy-1.0.3.tar.gz (388 kB)\n",
      "     |████████████████████████████████| 388 kB 3.6 MB/s            \n",
      "\u001b[?25h  Preparing metadata (setup.py) ... \u001b[?25ldone\n",
      "\u001b[?25hCollecting decorator<5.0,>=4.0.2\n",
      "  Downloading decorator-4.4.2-py2.py3-none-any.whl (9.2 kB)\n",
      "Requirement already satisfied: tqdm<5.0,>=4.11.2 in /Users/mehdi.ounissi/opt/anaconda3/lib/python3.8/site-packages (from moviepy) (4.59.0)\n",
      "Requirement already satisfied: requests<3.0,>=2.8.1 in /Users/mehdi.ounissi/opt/anaconda3/lib/python3.8/site-packages (from moviepy) (2.25.1)\n",
      "Collecting proglog<=1.0.0\n",
      "  Downloading proglog-0.1.10-py3-none-any.whl (6.1 kB)\n",
      "Requirement already satisfied: numpy>=1.17.3 in /Users/mehdi.ounissi/opt/anaconda3/lib/python3.8/site-packages (from moviepy) (1.20.1)\n",
      "Requirement already satisfied: imageio<3.0,>=2.5 in /Users/mehdi.ounissi/opt/anaconda3/lib/python3.8/site-packages (from moviepy) (2.9.0)\n",
      "Collecting imageio_ffmpeg>=0.2.0\n",
      "  Downloading imageio_ffmpeg-0.4.8-py3-none-macosx_10_9_intel.macosx_10_9_x86_64.macosx_10_10_intel.macosx_10_10_x86_64.whl (22.5 MB)\n",
      "     |████████████████████████████████| 22.5 MB 15.8 MB/s            \n",
      "\u001b[?25hRequirement already satisfied: pillow in /Users/mehdi.ounissi/opt/anaconda3/lib/python3.8/site-packages (from imageio<3.0,>=2.5->moviepy) (8.2.0)\n",
      "Requirement already satisfied: chardet<5,>=3.0.2 in /Users/mehdi.ounissi/opt/anaconda3/lib/python3.8/site-packages (from requests<3.0,>=2.8.1->moviepy) (4.0.0)\n",
      "Requirement already satisfied: urllib3<1.27,>=1.21.1 in /Users/mehdi.ounissi/opt/anaconda3/lib/python3.8/site-packages (from requests<3.0,>=2.8.1->moviepy) (1.26.4)\n",
      "Requirement already satisfied: certifi>=2017.4.17 in /Users/mehdi.ounissi/opt/anaconda3/lib/python3.8/site-packages (from requests<3.0,>=2.8.1->moviepy) (2023.5.7)\n",
      "Requirement already satisfied: idna<3,>=2.5 in /Users/mehdi.ounissi/opt/anaconda3/lib/python3.8/site-packages (from requests<3.0,>=2.8.1->moviepy) (2.10)\n",
      "Building wheels for collected packages: moviepy\n",
      "  Building wheel for moviepy (setup.py) ... \u001b[?25ldone\n",
      "\u001b[?25h  Created wheel for moviepy: filename=moviepy-1.0.3-py3-none-any.whl size=110726 sha256=cdf20d3a8794deb519574fa683036b38d0d4ab25c85ff3dfc6aab1af265d1d3a\n",
      "  Stored in directory: /Users/mehdi.ounissi/Library/Caches/pip/wheels/e4/a4/db/0368d3a04033da662e13926594b3a8cf1aa4ffeefe570cfac1\n",
      "Successfully built moviepy\n",
      "Installing collected packages: proglog, imageio-ffmpeg, decorator, moviepy\n",
      "  Attempting uninstall: decorator\n",
      "    Found existing installation: decorator 5.0.6\n",
      "    Uninstalling decorator-5.0.6:\n",
      "      Successfully uninstalled decorator-5.0.6\n",
      "Successfully installed decorator-4.4.2 imageio-ffmpeg-0.4.8 moviepy-1.0.3 proglog-0.1.10\n",
      "\u001b[33mWARNING: You are using pip version 21.3.1; however, version 23.1.2 is available.\n",
      "You should consider upgrading via the '/Users/mehdi.ounissi/opt/anaconda3/bin/python -m pip install --upgrade pip' command.\u001b[0m\n"
     ]
    }
   ],
   "source": [
    "!pip install moviepy"
   ]
  }
 ],
 "metadata": {
  "kernelspec": {
   "display_name": "base",
   "language": "python",
   "name": "python3"
  },
  "language_info": {
   "codemirror_mode": {
    "name": "ipython",
    "version": 3
   },
   "file_extension": ".py",
   "mimetype": "text/x-python",
   "name": "python",
   "nbconvert_exporter": "python",
   "pygments_lexer": "ipython3",
   "version": "3.8.8"
  },
  "orig_nbformat": 4
 },
 "nbformat": 4,
 "nbformat_minor": 2
}
